{
  "nbformat": 4,
  "nbformat_minor": 0,
  "metadata": {
    "colab": {
      "provenance": [],
      "authorship_tag": "ABX9TyNhOSpBhgr5tc7jN3MY2OBt",
      "include_colab_link": true
    },
    "kernelspec": {
      "name": "python3",
      "display_name": "Python 3"
    },
    "language_info": {
      "name": "python"
    }
  },
  "cells": [
    {
      "cell_type": "markdown",
      "metadata": {
        "id": "view-in-github",
        "colab_type": "text"
      },
      "source": [
        "<a href=\"https://colab.research.google.com/github/AvRob0/Avrob0.github.io/blob/main/RobinsonAveryFinalProjectEnd_To_End.ipynb\" target=\"_parent\"><img src=\"https://colab.research.google.com/assets/colab-badge.svg\" alt=\"Open In Colab\"/></a>"
      ]
    },
    {
      "cell_type": "code",
      "execution_count": null,
      "metadata": {
        "colab": {
          "base_uri": "https://localhost:8080/"
        },
        "id": "4U0_5d1TwIIw",
        "outputId": "a9aa7946-2d5e-428c-dc7e-2a21faa29107"
      },
      "outputs": [
        {
          "output_type": "execute_result",
          "data": {
            "text/plain": [
              "Index(['hotel', 'is_canceled', 'lead_time', 'arrival_date_year',\n",
              "       'arrival_date_month', 'arrival_date_week_number',\n",
              "       'arrival_date_day_of_month', 'stays_in_weekend_nights',\n",
              "       'stays_in_week_nights', 'adults', 'children', 'babies', 'meal',\n",
              "       'country', 'market_segment', 'distribution_channel',\n",
              "       'is_repeated_guest', 'previous_cancellations',\n",
              "       'previous_bookings_not_canceled', 'reserved_room_type',\n",
              "       'assigned_room_type', 'booking_changes', 'deposit_type', 'agent',\n",
              "       'company', 'days_in_waiting_list', 'customer_type', 'adr',\n",
              "       'required_car_parking_spaces', 'total_of_special_requests',\n",
              "       'reservation_status', 'reservation_status_date'],\n",
              "      dtype='object')"
            ]
          },
          "metadata": {},
          "execution_count": 2
        }
      ],
      "source": [
        "# imported librarys needed for End-to-end implementation of a Data Science Project\n",
        "import pandas as pd\n",
        "import numpy as np\n",
        "# Loaded the dataset into the hotel_df variable\n",
        "# and selected all the columns to see how many there are\n",
        "hotel_df = pd.read_csv('hotel_bookings.csv')\n",
        "hotel_df.columns"
      ]
    },
    {
      "cell_type": "code",
      "source": [
        "hotel_df.info()\n",
        "# Getting information about the dataset\n",
        "# Getting the info of the dataset gives me the Range of the Index which is 119390\n",
        "# It also gives me the total number of coloumns that are in the dataset and gives me all the columns names\n",
        "# With their non-Null count and datatype"
      ],
      "metadata": {
        "colab": {
          "base_uri": "https://localhost:8080/"
        },
        "id": "yr4SmQDX0pgz",
        "outputId": "7071a0cc-9ae1-447d-d028-32977c9ceb58"
      },
      "execution_count": null,
      "outputs": [
        {
          "output_type": "stream",
          "name": "stdout",
          "text": [
            "<class 'pandas.core.frame.DataFrame'>\n",
            "RangeIndex: 36553 entries, 0 to 36552\n",
            "Data columns (total 32 columns):\n",
            " #   Column                          Non-Null Count  Dtype  \n",
            "---  ------                          --------------  -----  \n",
            " 0   hotel                           36553 non-null  object \n",
            " 1   is_canceled                     36553 non-null  int64  \n",
            " 2   lead_time                       36553 non-null  int64  \n",
            " 3   arrival_date_year               36553 non-null  int64  \n",
            " 4   arrival_date_month              36553 non-null  object \n",
            " 5   arrival_date_week_number        36553 non-null  int64  \n",
            " 6   arrival_date_day_of_month       36553 non-null  int64  \n",
            " 7   stays_in_weekend_nights         36553 non-null  int64  \n",
            " 8   stays_in_week_nights            36553 non-null  int64  \n",
            " 9   adults                          36553 non-null  int64  \n",
            " 10  children                        36553 non-null  int64  \n",
            " 11  babies                          36553 non-null  int64  \n",
            " 12  meal                            36553 non-null  object \n",
            " 13  country                         36089 non-null  object \n",
            " 14  market_segment                  36553 non-null  object \n",
            " 15  distribution_channel            36553 non-null  object \n",
            " 16  is_repeated_guest               36553 non-null  int64  \n",
            " 17  previous_cancellations          36553 non-null  int64  \n",
            " 18  previous_bookings_not_canceled  36553 non-null  int64  \n",
            " 19  reserved_room_type              36553 non-null  object \n",
            " 20  assigned_room_type              36553 non-null  object \n",
            " 21  booking_changes                 36553 non-null  int64  \n",
            " 22  deposit_type                    36553 non-null  object \n",
            " 23  agent                           28702 non-null  float64\n",
            " 24  company                         3003 non-null   float64\n",
            " 25  days_in_waiting_list            36552 non-null  float64\n",
            " 26  customer_type                   36552 non-null  object \n",
            " 27  adr                             36552 non-null  float64\n",
            " 28  required_car_parking_spaces     36552 non-null  float64\n",
            " 29  total_of_special_requests       36552 non-null  float64\n",
            " 30  reservation_status              36552 non-null  object \n",
            " 31  reservation_status_date         36552 non-null  object \n",
            "dtypes: float64(6), int64(14), object(12)\n",
            "memory usage: 8.9+ MB\n"
          ]
        }
      ]
    },
    {
      "cell_type": "code",
      "source": [
        "hotel_df.isna().sum()"
      ],
      "metadata": {
        "colab": {
          "base_uri": "https://localhost:8080/"
        },
        "id": "6KKSGHY62Ngd",
        "outputId": "a324dec8-42c1-4c50-b076-fbbdd6e6f614"
      },
      "execution_count": null,
      "outputs": [
        {
          "output_type": "execute_result",
          "data": {
            "text/plain": [
              "hotel                                  0\n",
              "is_canceled                            0\n",
              "lead_time                              0\n",
              "arrival_date_year                      0\n",
              "arrival_date_month                     0\n",
              "arrival_date_week_number               0\n",
              "arrival_date_day_of_month              0\n",
              "stays_in_weekend_nights                0\n",
              "stays_in_week_nights                   0\n",
              "adults                                 0\n",
              "children                               4\n",
              "babies                                 0\n",
              "meal                                   0\n",
              "country                              488\n",
              "market_segment                         0\n",
              "distribution_channel                   0\n",
              "is_repeated_guest                      0\n",
              "previous_cancellations                 0\n",
              "previous_bookings_not_canceled         0\n",
              "reserved_room_type                     0\n",
              "assigned_room_type                     0\n",
              "booking_changes                        0\n",
              "deposit_type                           0\n",
              "agent                              16340\n",
              "company                           112593\n",
              "days_in_waiting_list                   0\n",
              "customer_type                          0\n",
              "adr                                    0\n",
              "required_car_parking_spaces            0\n",
              "total_of_special_requests              0\n",
              "reservation_status                     0\n",
              "reservation_status_date                0\n",
              "dtype: int64"
            ]
          },
          "metadata": {},
          "execution_count": 13
        }
      ]
    },
    {
      "cell_type": "code",
      "source": [
        "hotel_df.shape"
      ],
      "metadata": {
        "colab": {
          "base_uri": "https://localhost:8080/"
        },
        "id": "CUb1tUZr_YvZ",
        "outputId": "25b23d1b-4cac-470b-bc48-62b13f00faeb"
      },
      "execution_count": null,
      "outputs": [
        {
          "output_type": "execute_result",
          "data": {
            "text/plain": [
              "(36553, 32)"
            ]
          },
          "metadata": {},
          "execution_count": 4
        }
      ]
    },
    {
      "cell_type": "code",
      "source": [
        "for i in hotel_df.columns:\n",
        "    #print(i)\n",
        "    #print(hotel_df[i].unique())\n",
        "    if hotel_df[i].isna().sum() != 0:\n",
        "      print('null values in', i, 'column', hotel_df[i].isna().sum())"
      ],
      "metadata": {
        "colab": {
          "base_uri": "https://localhost:8080/"
        },
        "id": "vcsa7lzXD5R_",
        "outputId": "58adc19f-5f90-4a67-8b43-af330c2fd9cf"
      },
      "execution_count": null,
      "outputs": [
        {
          "output_type": "stream",
          "name": "stdout",
          "text": [
            "null values in country column 464\n",
            "null values in agent column 7851\n",
            "null values in company column 33550\n",
            "null values in days_in_waiting_list column 1\n",
            "null values in customer_type column 1\n",
            "null values in adr column 1\n",
            "null values in required_car_parking_spaces column 1\n",
            "null values in total_of_special_requests column 1\n",
            "null values in reservation_status column 1\n",
            "null values in reservation_status_date column 1\n"
          ]
        }
      ]
    },
    {
      "cell_type": "code",
      "source": [
        "# drop the company column since most of the values are 0\n",
        "hotel_df = hotel_df.drop(columns = 'company')\n",
        "\n",
        "# drops 4 rows all containing 0 value in the children column\n",
        "hotel_df = hotel_df.dropna(subset=['children'])\n",
        "#hotel_df\n",
        "# filling the missing values in country column with the frequent mode value\n",
        "hotel_df['country'].fillna(hotel_df['country'].mode()[0], inplace=True)\n",
        "\n",
        "# then fill all the missing values in the agent column and use the value used for agent id.\n",
        "hotel_df['agent'].fillna(0, inplace=True)\n"
      ],
      "metadata": {
        "id": "WmqXEc8TLK1h"
      },
      "execution_count": null,
      "outputs": []
    },
    {
      "cell_type": "code",
      "source": [
        "# to replace TA\\TO with undefined in distribution_channel column\n",
        "hotel_df['distribution_channel'].replace('TA/TO', 'Undefined', inplace=True)\n",
        "\n",
        "#replace Undefined, BB, FB, HB, SC to its meaning.\n",
        "hotel_df['meal'].replace(['Undefined', 'BB', 'FB', 'HB','SC',], ['no meal', 'full board', 'half board', 'no meal', 'no meal'] , inplace=True)\n",
        "#inplace = true -> directly modify the dataframe.\n"
      ],
      "metadata": {
        "id": "pEVQ35T4njUD"
      },
      "execution_count": null,
      "outputs": []
    },
    {
      "cell_type": "code",
      "source": [
        "# changing the children and agent column data type into a integer\n",
        "hotel_df['children'].astype(int)\n",
        "hotel_df['agent'].astype(int)\n",
        "\n",
        "# turns the column data type into date and time\n",
        "pd.to_datetime(hotel_df['reservation_status_date'])"
      ],
      "metadata": {
        "colab": {
          "base_uri": "https://localhost:8080/"
        },
        "id": "eXNXNin3qXbQ",
        "outputId": "7e01ef4f-df71-4566-9ef3-ff6e49888339"
      },
      "execution_count": null,
      "outputs": [
        {
          "output_type": "execute_result",
          "data": {
            "text/plain": [
              "0       2015-07-01\n",
              "1       2015-07-01\n",
              "2       2015-07-02\n",
              "3       2015-07-02\n",
              "4       2015-07-03\n",
              "           ...    \n",
              "36548   2017-05-24\n",
              "36549   2017-05-24\n",
              "36550   2017-05-25\n",
              "36551   2017-05-24\n",
              "36552          NaT\n",
              "Name: reservation_status_date, Length: 36553, dtype: datetime64[ns]"
            ]
          },
          "metadata": {},
          "execution_count": 10
        }
      ]
    },
    {
      "cell_type": "code",
      "source": [
        "hotel_df.duplicated().sum()\n",
        "# We hae 5959 of duplicate rows\n",
        "# Getting rid of the duplicates\n",
        "hotel_df.drop_duplicates(inplace=True)"
      ],
      "metadata": {
        "id": "VMWwXeHRro0L"
      },
      "execution_count": null,
      "outputs": []
    },
    {
      "cell_type": "code",
      "source": [
        "#create total night column\n",
        "hotel_df['total_nights'] = hotel_df['stays_in_weekend_nights'] + hotel_df['stays_in_week_nights']\n",
        "#convert month name to number then create new arrival date column by combining year month date\n",
        "hotel_df['arrival_date_month'] = pd.to_datetime(hotel_df['arrival_date_month'], format='%B').dt.month\n",
        "hotel_df['date_arrival'] = pd.to_datetime(dict(year=hotel_df.arrival_date_year, month=hotel_df.arrival_date_month, day=hotel_df.arrival_date_day_of_month))"
      ],
      "metadata": {
        "id": "vlIXLbXUsSwU"
      },
      "execution_count": 14,
      "outputs": []
    }
  ]
}