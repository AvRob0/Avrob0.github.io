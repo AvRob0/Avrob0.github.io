{
  "nbformat": 4,
  "nbformat_minor": 0,
  "metadata": {
    "colab": {
      "provenance": [],
      "include_colab_link": true
    },
    "kernelspec": {
      "name": "python3",
      "display_name": "Python 3"
    },
    "language_info": {
      "name": "python"
    }
  },
  "cells": [
    {
      "cell_type": "markdown",
      "metadata": {
        "id": "view-in-github",
        "colab_type": "text"
      },
      "source": [
        "<a href=\"https://colab.research.google.com/github/AvRob0/Avrob0.github.io/blob/main/Week1_Assignment_1.2.ipynb\" target=\"_parent\"><img src=\"https://colab.research.google.com/assets/colab-badge.svg\" alt=\"Open In Colab\"/></a>"
      ]
    },
    {
      "cell_type": "markdown",
      "source": [
        "Define a function named calculate_median that takes a list of numbers as input and returns the median of those numbers."
      ],
      "metadata": {
        "id": "IY9UAVMrFFMK"
      }
    },
    {
      "cell_type": "code",
      "source": [
        "#Your answers must go here\n",
        "def calculate_median(numbers):\n",
        "    \"\"\"This function calculates the median of a provided list of numbers.\"\"\"\n",
        "\n",
        "    # First we need to sort the input list\n",
        "    sorted_numbers = sorted(numbers)\n",
        "\n",
        "    # If there is an odd number of elements in the list, return the middle value as median\n",
        "    if len(sorted_numbers) % 2 == 1:\n",
        "        return sorted_numbers[len(sorted_numbers) // 2]\n",
        "\n",
        "    # If there are even numbers of elements, calculate average of two middle values and return it as median\n",
        "    else:\n",
        "        index = len(sorted_numbers) // 2 - 1  # Index of first middle value\n",
        "        return (sorted_numbers[index] + sorted_numbers[index + 1]) / 2\n",
        "calculate_median()\n",
        "# You can use this `calculate_median()` function by passing a list of numbers as an argument. It will then sort the given list and return the median value accordingly"
      ],
      "metadata": {
        "id": "T8aVV1vxFJsX"
      },
      "execution_count": null,
      "outputs": []
    },
    {
      "cell_type": "markdown",
      "source": [
        "Read a text file named \"text.txt\" containing the following text. Count the occurrences of each word and store them in a dictionary.\n",
        "\n",
        "**Text:** apple banana apple orange mango mango grape grape peach pear peach pear kiwi kiwi pineapple pineapple strawberry strawberry blueberry blueberry watermelon watermelon lemon lemon lime\""
      ],
      "metadata": {
        "id": "nfCEGqBZFfIP"
      }
    },
    {
      "cell_type": "code",
      "source": [
        "#Your answers must go here\n",
        "\n",
        "file1 = open(\"text.txt\", \"r\")\n",
        "content = file1.read()\n",
        "print(content)\n",
        "sentence = content\n",
        "word_list = sentence.lower().split()\n",
        "# Convert to lowercase and split by whitespace\n",
        "word_count = {}\n",
        "for word in word_list:\n",
        "    if word not in word_count:\n",
        "        word_count[word] = 1\n",
        "    else:\n",
        "        word_count[word] += 1\n",
        "\n",
        "sorted_items = sorted(word_count.items(), key=lambda x: x[1], reverse=True)\n",
        "print(\"Top 3 most common words with counts:\\n\")\n",
        "for item in sorted_items[:3]:\n",
        "    print(f\"{item[0]} : {item[1]}\")\n",
        "\n",
        "file1.close()\n",
        "#--------------------OUTPUT------------------------------\n",
        "#apple banana apple orange mango mango grape grape peach pear peach pear kiwi kiwi pineapple pineapple strawberry strawberry blueberry blueberry watermelon watermelon lemon lemon lime\n",
        "#Top 3 most common words with counts:\n",
        "#apple : 2\n",
        "#mango : 2\n",
        "#grape : 2\n"
      ],
      "metadata": {
        "id": "MvE0QgThFz77"
      },
      "execution_count": null,
      "outputs": []
    },
    {
      "cell_type": "markdown",
      "source": [
        "Create a .txt file and write some content into it. Read this content from '.txt' file and write it into another file named 'copy.txt' using a file method and a loop."
      ],
      "metadata": {
        "id": "dH4yhd-KFlbF"
      }
    },
    {
      "cell_type": "code",
      "source": [
        "#Your answers must go here\n",
        "# Step 1 - Create a text file (if not exists) and write some sample data into it\n",
        "with open('original.txt', mode='w') as original_file:\n",
        "    original_file.write(\"This is the original content.\\n\")\n",
        "    original_file.write(\"It will be copied to 'copy.txt' file.\")\n",
        "\n",
        "# Step 2 - Read content from '.txt' file ('original.txt')\n",
        "with open('original.txt', mode='r') as original_file:\n",
        "    original_data = original_file.readlines()  # Read the entire file into a list of lines\n",
        "\n",
        "# Step 3 - Write read content into another file named 'copy.txt' using loop\n",
        "with open('copy.txt', mode='w') as copy_file:\n",
        "    for line in original_data:  # Iterate over each line in the original data\n",
        "        copy_file.write(line)   # Copy each line into the 'copy.txt' file\n",
        "#output-This is the original content.\n",
        "#output-It will be copied to 'copy.txt' file.\n"
      ],
      "metadata": {
        "id": "CtPv4V0hFzO3"
      },
      "execution_count": null,
      "outputs": []
    }
  ]
}