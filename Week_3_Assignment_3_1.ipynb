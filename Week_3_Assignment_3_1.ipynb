{
  "nbformat": 4,
  "nbformat_minor": 0,
  "metadata": {
    "colab": {
      "provenance": [],
      "include_colab_link": true
    },
    "kernelspec": {
      "name": "python3",
      "display_name": "Python 3"
    },
    "language_info": {
      "name": "python"
    }
  },
  "cells": [
    {
      "cell_type": "markdown",
      "metadata": {
        "id": "view-in-github",
        "colab_type": "text"
      },
      "source": [
        "<a href=\"https://colab.research.google.com/github/AvRob0/Avrob0.github.io/blob/main/Week_3_Assignment_3_1.ipynb\" target=\"_parent\"><img src=\"https://colab.research.google.com/assets/colab-badge.svg\" alt=\"Open In Colab\"/></a>"
      ]
    },
    {
      "cell_type": "markdown",
      "source": [
        "Load the dataset into a pandas dataframe and answer the following questions:"
      ],
      "metadata": {
        "id": "Kbgt2xpxq0vA"
      }
    },
    {
      "cell_type": "markdown",
      "source": [
        "Describe the structure of the diabetes dataset (size,features, data types)"
      ],
      "metadata": {
        "id": "OWGKFe0PrUGq"
      }
    },
    {
      "cell_type": "code",
      "source": [
        "import pandas as pd\n",
        "from pandas.plotting import scatter_matrix\n",
        "from sklearn.datasets import load_iris\n",
        "\n",
        "data = open('diabetes.txt', 'r')\n",
        "df = data.read()\n",
        "print(df)\n",
        "\n",
        "\n",
        "data.close()\n",
        "# I would describe the dataset as very large with 11 features and data types"
      ],
      "metadata": {
        "id": "uJ7Ix31kq9fa"
      },
      "execution_count": null,
      "outputs": []
    },
    {
      "cell_type": "markdown",
      "source": [
        "Show the relationships between the target variable and the features using scatter plot and correlation analysis."
      ],
      "metadata": {
        "id": "5INp95yTrceo"
      }
    },
    {
      "cell_type": "code",
      "source": [
        "import pandas as pd\n",
        "import matplotlib.pyplot as plt\n",
        "import numpy as np\n",
        "from sklearn.linear_model import LinearRegression\n",
        "from sklearn import metrics\n",
        "\n",
        "db_data = pd.read_csv('diabetes.txt', sep='\\t')\n",
        "\n",
        "X = db_data['BMI']\n",
        "Y = db_data['S6']\n",
        "plt.scatter(X, Y)\n",
        "plt.xlabel('Body Mass Index')\n",
        "plt.ylabel('S6 Glu--Blood Sugar Level')\n",
        "plt.show()\n",
        "\n",
        "model = LinearRegression().fit(X.values.reshape(-1, 1), Y)\n",
        "\n",
        "predictions = model.predict(X.values.reshape(-1, 1))\n",
        "\n",
        "mse = metrics.mean_squared_error(Y, predictions)\n",
        "rmse = np.sqrt(metrics.mean_squared_error(Y, predictions))\n",
        "r2 = metrics.r2_score(Y, predictions)\n",
        "\n",
        "print(\"Mean Squared Error: \", mse)\n",
        "print(\"Root Mean Squared Error: \", rmse)\n",
        "print(\"R-Squared Score: \", r2)\n",
        "\n",
        "plt.scatter(X, Y)\n",
        "plt.plot(X, predictions, color='red') # Regression line\n",
        "plt.xlabel('Body Mass Index')\n",
        "plt.ylabel('S6 Glu--Blood Sugar Level')\n",
        "plt.show()"
      ],
      "metadata": {
        "id": "x21Nsl2erkhc"
      },
      "execution_count": null,
      "outputs": []
    },
    {
      "cell_type": "markdown",
      "source": [
        "Build a Simple Linear Regression Model (Single Feature):\n",
        "\n",
        "1. Choose a single feature (body mass index) as the predictor variable and the s6 glu, blood sugar level as the target variable.\n",
        "\n",
        "2. Split the dataset into training and testing sets.\n",
        "\n",
        "3. Train a simple linear regression model using the training data.\n",
        "\n",
        "4. Evaluate the model's accuracy using metrics such as mean squared error (MSE) or R-squared on both the training and testing sets.\n",
        "\n",
        "5. Visualize the actual vs. predicted values of the target variable on the testing set."
      ],
      "metadata": {
        "id": "s3qVpi5Zr0hJ"
      }
    },
    {
      "cell_type": "markdown",
      "source": [
        "Build a Simple Linear Regression Model (Two Features):\n",
        "\n",
        "1.Select two features (body mass index and age in years) as predictor variables and the s6 glu, blood sugar level as the target variable.\n",
        "\n",
        "2.Split the dataset into training and testing sets.\n",
        "Train a simple linear regression model using the training data.\n",
        "\n",
        "3.Assess the model's accuracy using metrics such as MSE or R-squared on both the training and testing sets.\n",
        "\n",
        "4.Visualize the actual vs. predicted values of the target variable on the testing set."
      ],
      "metadata": {
        "id": "3jemb3HZr6vI"
      }
    },
    {
      "cell_type": "code",
      "source": [
        "import numpy as np\n",
        "import pandas as pd\n",
        "import matplotlib.pyplot as plt\n",
        "from sklearn import linear_model\n",
        "from sklearn.model_selection import train_test_split\n",
        "\n",
        "db_data = pd.read_csv('diabetes.txt', sep='\\t')\n",
        "db_data.shape\n",
        "\n",
        "X = db_data.BMI\n",
        "Y = db_data.S6\n",
        "\n",
        "X_train, X_test, Y_train, Y_test = train_test_split(X, Y, test_size=0.2)\n",
        "\n",
        "X_train.shape\n",
        "\n",
        "X_test.shape\n",
        "\n",
        "model = linear_model.LinearRegression()\n",
        "\n",
        "model.fit(X_train.values.reshape(-1, 1), Y_train)\n",
        "\n",
        "#X1 = db_data[2] # predictor variable\n",
        "#X2 = db_data[0] # pedictor variable\n",
        "#Y = db_data[9] # target variable\n",
        "\n",
        "#plt.scatter(X1, X2, Y)\n",
        "#plt.xlabel('Body Mass Index and Age in Years')\n",
        "#plt.ylabel('S6 Glu Blood Sugar Level')\n",
        "#plt.show()"
      ],
      "metadata": {
        "id": "15WYoEm1B2m1",
        "outputId": "e144e14b-61a3-48d5-e85e-e5f6c99b7464",
        "colab": {
          "base_uri": "https://localhost:8080/",
          "height": 74
        }
      },
      "execution_count": 17,
      "outputs": [
        {
          "output_type": "execute_result",
          "data": {
            "text/plain": [
              "LinearRegression()"
            ],
            "text/html": [
              "<style>#sk-container-id-1 {color: black;background-color: white;}#sk-container-id-1 pre{padding: 0;}#sk-container-id-1 div.sk-toggleable {background-color: white;}#sk-container-id-1 label.sk-toggleable__label {cursor: pointer;display: block;width: 100%;margin-bottom: 0;padding: 0.3em;box-sizing: border-box;text-align: center;}#sk-container-id-1 label.sk-toggleable__label-arrow:before {content: \"▸\";float: left;margin-right: 0.25em;color: #696969;}#sk-container-id-1 label.sk-toggleable__label-arrow:hover:before {color: black;}#sk-container-id-1 div.sk-estimator:hover label.sk-toggleable__label-arrow:before {color: black;}#sk-container-id-1 div.sk-toggleable__content {max-height: 0;max-width: 0;overflow: hidden;text-align: left;background-color: #f0f8ff;}#sk-container-id-1 div.sk-toggleable__content pre {margin: 0.2em;color: black;border-radius: 0.25em;background-color: #f0f8ff;}#sk-container-id-1 input.sk-toggleable__control:checked~div.sk-toggleable__content {max-height: 200px;max-width: 100%;overflow: auto;}#sk-container-id-1 input.sk-toggleable__control:checked~label.sk-toggleable__label-arrow:before {content: \"▾\";}#sk-container-id-1 div.sk-estimator input.sk-toggleable__control:checked~label.sk-toggleable__label {background-color: #d4ebff;}#sk-container-id-1 div.sk-label input.sk-toggleable__control:checked~label.sk-toggleable__label {background-color: #d4ebff;}#sk-container-id-1 input.sk-hidden--visually {border: 0;clip: rect(1px 1px 1px 1px);clip: rect(1px, 1px, 1px, 1px);height: 1px;margin: -1px;overflow: hidden;padding: 0;position: absolute;width: 1px;}#sk-container-id-1 div.sk-estimator {font-family: monospace;background-color: #f0f8ff;border: 1px dotted black;border-radius: 0.25em;box-sizing: border-box;margin-bottom: 0.5em;}#sk-container-id-1 div.sk-estimator:hover {background-color: #d4ebff;}#sk-container-id-1 div.sk-parallel-item::after {content: \"\";width: 100%;border-bottom: 1px solid gray;flex-grow: 1;}#sk-container-id-1 div.sk-label:hover label.sk-toggleable__label {background-color: #d4ebff;}#sk-container-id-1 div.sk-serial::before {content: \"\";position: absolute;border-left: 1px solid gray;box-sizing: border-box;top: 0;bottom: 0;left: 50%;z-index: 0;}#sk-container-id-1 div.sk-serial {display: flex;flex-direction: column;align-items: center;background-color: white;padding-right: 0.2em;padding-left: 0.2em;position: relative;}#sk-container-id-1 div.sk-item {position: relative;z-index: 1;}#sk-container-id-1 div.sk-parallel {display: flex;align-items: stretch;justify-content: center;background-color: white;position: relative;}#sk-container-id-1 div.sk-item::before, #sk-container-id-1 div.sk-parallel-item::before {content: \"\";position: absolute;border-left: 1px solid gray;box-sizing: border-box;top: 0;bottom: 0;left: 50%;z-index: -1;}#sk-container-id-1 div.sk-parallel-item {display: flex;flex-direction: column;z-index: 1;position: relative;background-color: white;}#sk-container-id-1 div.sk-parallel-item:first-child::after {align-self: flex-end;width: 50%;}#sk-container-id-1 div.sk-parallel-item:last-child::after {align-self: flex-start;width: 50%;}#sk-container-id-1 div.sk-parallel-item:only-child::after {width: 0;}#sk-container-id-1 div.sk-dashed-wrapped {border: 1px dashed gray;margin: 0 0.4em 0.5em 0.4em;box-sizing: border-box;padding-bottom: 0.4em;background-color: white;}#sk-container-id-1 div.sk-label label {font-family: monospace;font-weight: bold;display: inline-block;line-height: 1.2em;}#sk-container-id-1 div.sk-label-container {text-align: center;}#sk-container-id-1 div.sk-container {/* jupyter's `normalize.less` sets `[hidden] { display: none; }` but bootstrap.min.css set `[hidden] { display: none !important; }` so we also need the `!important` here to be able to override the default hidden behavior on the sphinx rendered scikit-learn.org. See: https://github.com/scikit-learn/scikit-learn/issues/21755 */display: inline-block !important;position: relative;}#sk-container-id-1 div.sk-text-repr-fallback {display: none;}</style><div id=\"sk-container-id-1\" class=\"sk-top-container\"><div class=\"sk-text-repr-fallback\"><pre>LinearRegression()</pre><b>In a Jupyter environment, please rerun this cell to show the HTML representation or trust the notebook. <br />On GitHub, the HTML representation is unable to render, please try loading this page with nbviewer.org.</b></div><div class=\"sk-container\" hidden><div class=\"sk-item\"><div class=\"sk-estimator sk-toggleable\"><input class=\"sk-toggleable__control sk-hidden--visually\" id=\"sk-estimator-id-1\" type=\"checkbox\" checked><label for=\"sk-estimator-id-1\" class=\"sk-toggleable__label sk-toggleable__label-arrow\">LinearRegression</label><div class=\"sk-toggleable__content\"><pre>LinearRegression()</pre></div></div></div></div></div>"
            ]
          },
          "metadata": {},
          "execution_count": 17
        }
      ]
    }
  ]
}