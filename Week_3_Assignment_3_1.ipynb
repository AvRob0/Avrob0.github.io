{
  "nbformat": 4,
  "nbformat_minor": 0,
  "metadata": {
    "colab": {
      "provenance": [],
      "include_colab_link": true
    },
    "kernelspec": {
      "name": "python3",
      "display_name": "Python 3"
    },
    "language_info": {
      "name": "python"
    }
  },
  "cells": [
    {
      "cell_type": "markdown",
      "metadata": {
        "id": "view-in-github",
        "colab_type": "text"
      },
      "source": [
        "<a href=\"https://colab.research.google.com/github/AvRob0/Avrob0.github.io/blob/main/Week_3_Assignment_3_1.ipynb\" target=\"_parent\"><img src=\"https://colab.research.google.com/assets/colab-badge.svg\" alt=\"Open In Colab\"/></a>"
      ]
    },
    {
      "cell_type": "markdown",
      "source": [
        "Load the dataset into a pandas dataframe and answer the following questions:"
      ],
      "metadata": {
        "id": "Kbgt2xpxq0vA"
      }
    },
    {
      "cell_type": "markdown",
      "source": [
        "Describe the structure of the diabetes dataset (size,features, data types)"
      ],
      "metadata": {
        "id": "OWGKFe0PrUGq"
      }
    },
    {
      "cell_type": "code",
      "source": [
        "import pandas as pd\n",
        "from pandas.plotting import scatter_matrix\n",
        "from sklearn.datasets import load_iris\n",
        "\n",
        "data = open('diabetes.txt', 'r')\n",
        "df = data.read()\n",
        "print(df)\n",
        "\n",
        "\n",
        "data.close()\n",
        "# I would describe the dataset as very large with 11 features and data types"
      ],
      "metadata": {
        "id": "uJ7Ix31kq9fa"
      },
      "execution_count": null,
      "outputs": []
    },
    {
      "cell_type": "markdown",
      "source": [
        "Show the relationships between the target variable and the features using scatter plot and correlation analysis."
      ],
      "metadata": {
        "id": "5INp95yTrceo"
      }
    },
    {
      "cell_type": "code",
      "source": [
        "import pandas as pd\n",
        "import matplotlib.pyplot as plt\n",
        "import numpy as np\n",
        "from sklearn.linear_model import LinearRegression\n",
        "from sklearn import metrics\n",
        "\n",
        "db_data = pd.read_csv('diabetes.txt', sep='\\t')\n",
        "\n",
        "X = db_data['BMI']\n",
        "Y = db_data['S6']\n",
        "plt.scatter(X, Y)\n",
        "plt.xlabel('Body Mass Index')\n",
        "plt.ylabel('S6 Glu--Blood Sugar Level')\n",
        "plt.show()\n",
        "\n",
        "model = LinearRegression().fit(X.values.reshape(-1, 1), Y)\n",
        "\n",
        "predictions = model.predict(X.values.reshape(-1, 1))\n",
        "\n",
        "mse = metrics.mean_squared_error(Y, predictions)\n",
        "rmse = np.sqrt(metrics.mean_squared_error(Y, predictions))\n",
        "r2 = metrics.r2_score(Y, predictions)\n",
        "\n",
        "print(\"Mean Squared Error: \", mse)\n",
        "print(\"Root Mean Squared Error: \", rmse)\n",
        "print(\"R-Squared Score: \", r2)\n",
        "\n",
        "plt.scatter(X, Y)\n",
        "plt.plot(X, predictions, color='red') # Regression line\n",
        "plt.xlabel('Body Mass Index')\n",
        "plt.ylabel('S6 Glu--Blood Sugar Level')\n",
        "plt.show()"
      ],
      "metadata": {
        "id": "x21Nsl2erkhc"
      },
      "execution_count": null,
      "outputs": []
    },
    {
      "cell_type": "markdown",
      "source": [
        "Build a Simple Linear Regression Model (Single Feature):\n",
        "\n",
        "1. Choose a single feature (body mass index) as the predictor variable and the s6 glu, blood sugar level as the target variable.\n",
        "\n",
        "2. Split the dataset into training and testing sets.\n",
        "\n",
        "3. Train a simple linear regression model using the training data.\n",
        "\n",
        "4. Evaluate the model's accuracy using metrics such as mean squared error (MSE) or R-squared on both the training and testing sets.\n",
        "\n",
        "5. Visualize the actual vs. predicted values of the target variable on the testing set."
      ],
      "metadata": {
        "id": "s3qVpi5Zr0hJ"
      }
    },
    {
      "cell_type": "markdown",
      "source": [
        "Build a Simple Linear Regression Model (Two Features):\n",
        "\n",
        "1.Select two features (body mass index and age in years) as predictor variables and the s6 glu, blood sugar level as the target variable.\n",
        "\n",
        "2.Split the dataset into training and testing sets.\n",
        "Train a simple linear regression model using the training data.\n",
        "\n",
        "3.Assess the model's accuracy using metrics such as MSE or R-squared on both the training and testing sets.\n",
        "\n",
        "4.Visualize the actual vs. predicted values of the target variable on the testing set."
      ],
      "metadata": {
        "id": "3jemb3HZr6vI"
      }
    },
    {
      "cell_type": "code",
      "source": [
        "import pandas as pd\n",
        "from sklearn.linear_model import LinearRegression\n",
        "from sklearn.metrics import mean_squared_error\n",
        "from sklearn.preprocessing import StandardScaler\n",
        "from sklearn.model_selection import train_test_split\n",
        "\n",
        "db_data = pd.read_csv('diabetes.txt', sep='\\t')\n",
        "\n",
        "X = db_data[['BMI', 'AGE']]\n",
        "Y = db_data['S6']\n",
        "\n",
        "X_train, X_test, Y_train, Y_test = train_test_split(X, Y, test_size=0.3, random_state=42)\n",
        "\n",
        "model = LinearRegression().fit(X_train, Y_train)\n",
        "\n",
        "mse = mean_squared_error(Y_test, model.predict(X_test))\n",
        "print(\"Mean Squared Error: \", mse)\n"
      ],
      "metadata": {
        "id": "15WYoEm1B2m1",
        "outputId": "a9d5a789-e77e-45cf-f4fd-005fb1bde0f9",
        "colab": {
          "base_uri": "https://localhost:8080/"
        }
      },
      "execution_count": 11,
      "outputs": [
        {
          "output_type": "stream",
          "name": "stdout",
          "text": [
            "Mean Squared Error:  98.19687063267281\n"
          ]
        }
      ]
    }
  ]
}