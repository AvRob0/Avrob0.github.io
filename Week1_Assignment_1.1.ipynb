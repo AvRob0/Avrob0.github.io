{
  "nbformat": 4,
  "nbformat_minor": 0,
  "metadata": {
    "colab": {
      "provenance": [],
      "include_colab_link": true
    },
    "kernelspec": {
      "name": "python3",
      "display_name": "Python 3"
    },
    "language_info": {
      "name": "python"
    }
  },
  "cells": [
    {
      "cell_type": "markdown",
      "metadata": {
        "id": "view-in-github",
        "colab_type": "text"
      },
      "source": [
        "<a href=\"https://colab.research.google.com/github/AvRob0/Avrob0.github.io/blob/main/Week1_Assignment_1.1.ipynb\" target=\"_parent\"><img src=\"https://colab.research.google.com/assets/colab-badge.svg\" alt=\"Open In Colab\"/></a>"
      ]
    },
    {
      "cell_type": "markdown",
      "source": [
        "**Python Practice**\n",
        "\n",
        "This assignment is to get started with a practice to Python for Data Science.\n",
        "\n",
        "Choose any 6 questions out of the questions below. 6 questions will be graded and the rest can be utilized for some practice."
      ],
      "metadata": {
        "id": "O2PrhW5BvC3E"
      }
    },
    {
      "cell_type": "markdown",
      "source": [
        "Create a string variable greeting containing \"Hello, \" and another variable name containing your name. Concatenate these variables to form a greeting message and print it"
      ],
      "metadata": {
        "id": "ujhMol3ubYaw"
      }
    },
    {
      "cell_type": "code",
      "source": [
        "#Your answer must go here\n",
        "greeting = \"Hello\"\n",
        "name = \"Avery Robinson\"\n",
        "print(f\"{greeting} my name is {name}\")"
      ],
      "metadata": {
        "id": "Ept6SexKCEwQ"
      },
      "execution_count": null,
      "outputs": []
    },
    {
      "cell_type": "markdown",
      "source": [
        "Write a Python program which accepts a sequence of comma-separated numbers\n",
        "from the user and generate a list with those numbers. Arrange them in ascending order"
      ],
      "metadata": {
        "id": "q6Q3a2icbfJb"
      }
    },
    {
      "cell_type": "code",
      "source": [
        "#Your answer must go here\n",
        "# create the length of the list you want\n",
        "l = int(input(\"how long is the list:\"))\n",
        "#created a variable to take user input and put it to list formate\n",
        "num = list(map(int, input(\"Number your list: \").strip().split()))[:l]\n",
        "#print the list of user input\n",
        "print(\"\\nYour list: \", num)"
      ],
      "metadata": {
        "id": "v2MZd11TCT1Q"
      },
      "execution_count": null,
      "outputs": []
    },
    {
      "cell_type": "markdown",
      "source": [
        "Write a Python program to display the first and last letters from the given list of names: [\"Adam\",\"Alex\",\"Emmanuel\" ,\"Robert\", \"Finn\"]."
      ],
      "metadata": {
        "id": "tD9ZO5LqcPHJ"
      }
    },
    {
      "cell_type": "code",
      "source": [
        "#Your answer must go here\n",
        "names = [\"Adam\", \"Alex\", \"Emmanuel\", \"Robert\", \"Finn\"]\n",
        "\n",
        "first_letter = names[0][0], names[1][0], names[2][0], names[3][0], names[4][0]\n",
        "\n",
        "print(first_letter)"
      ],
      "metadata": {
        "id": "65y1fHv0CVXu"
      },
      "execution_count": null,
      "outputs": []
    },
    {
      "cell_type": "markdown",
      "source": [
        "Take a string as an input. Write a python program to create a new string using the first, middle, and last characters of the input string."
      ],
      "metadata": {
        "id": "VyB-z66Vcxjs"
      }
    },
    {
      "cell_type": "code",
      "source": [
        "#Your answer must go here\n",
        "#Created a function\n",
        "def create_new_word(input_str):\n",
        "    if len(input_str) < 3: #checks if the string is longer than 3 and returns the string if less than three\n",
        "        return input_str\n",
        "    else:\n",
        "        first_letter = input_str[0]#takes first letter\n",
        "        middle_letter = input_str[len(input_str)//2 -1]#takes the middle letter\n",
        "        last_letter = input_str[-1]#takes the last letter\n",
        "        return f\"{first_letter}{middle_letter}{last_letter}\"#returns all the letters\n",
        "input_string = input(\"Enter Word: \")#takes user input and store it in the variable\n",
        "ending_string = create_new_word(input_string)#variable created to store the functions call and run it\n",
        "print(f\"New String: {ending_string}\")#prints the outcome of the user input"
      ],
      "metadata": {
        "id": "fywPaeQ9CWoQ"
      },
      "execution_count": null,
      "outputs": []
    },
    {
      "cell_type": "markdown",
      "source": [
        "Write a python program to take a string as an input and reverse it"
      ],
      "metadata": {
        "id": "4KoZnsVnc7K7"
      }
    },
    {
      "cell_type": "code",
      "source": [
        "#Your answer must go here\n",
        "def reverse_word(rev_word):\n",
        "    #initialize a empty string for reverse\n",
        "    reverse_str = ''\n",
        "    # iterate through the string reversed\n",
        "    for char in reversed(rev_word):\n",
        "        reverse_str += char\n",
        "    return reverse_str\n",
        "user_inpt = input('Enter your Word: ')\n",
        "print(reverse_word(user_inpt))"
      ],
      "metadata": {
        "id": "-C4HsLcjCXwT"
      },
      "execution_count": null,
      "outputs": []
    },
    {
      "cell_type": "markdown",
      "source": [
        "**Collections**"
      ],
      "metadata": {
        "id": "x-5HZ4ghtHf-"
      }
    },
    {
      "cell_type": "markdown",
      "source": [
        "Take an input of numbers in a list and create a new list containing only the even numbers from the original list."
      ],
      "metadata": {
        "id": "iGAnSQaMs-kU"
      }
    },
    {
      "cell_type": "code",
      "source": [
        "#Your answer must go here\n",
        "#Take an input of numbers in a list and create a new list containing only the even numbers from the original list.\n",
        "l = [1,2,3,4,5,6,7,8,9,10,11,12,13,14,15,16,17,18,19,20]\n",
        "def even_list(l):\n",
        "\n",
        "    for i in l:\n",
        "        if i % 2 == 0:\n",
        "            print(i)\n",
        "\n",
        "even_list(l)"
      ],
      "metadata": {
        "id": "du-AQi1jCema"
      },
      "execution_count": null,
      "outputs": []
    },
    {
      "cell_type": "markdown",
      "source": [
        "Take a list of strings (words) and create a new list containing the lengths of each word in the original list."
      ],
      "metadata": {
        "id": "2PHWbU8HtNO-"
      }
    },
    {
      "cell_type": "code",
      "source": [
        "#Your answer must go here"
      ],
      "metadata": {
        "id": "S_vHvvR6Cfav"
      },
      "execution_count": null,
      "outputs": []
    },
    {
      "cell_type": "markdown",
      "source": [
        "Create a dictionary student_grades with keys as student names and values as their respective grades. Find the student with the highest grade and print the output"
      ],
      "metadata": {
        "id": "8gzK9MNStgx5"
      }
    },
    {
      "cell_type": "code",
      "source": [
        "#Your answer must go here\n",
        "student_grades = { \"Alice\": 95,\"Bob\": 80,\"Charlie\": 72,\"David\": 65}\n",
        "# Find the student with the highest grade\n",
        "max_grade = max(student_grades.values())\n",
        "for student, grade in student_grades.items():\n",
        "    if grade == max_grade:\n",
        "        print(\"The student with the highest grade is:\", student)"
      ],
      "metadata": {
        "id": "dcUL0Yj3CgVQ"
      },
      "execution_count": null,
      "outputs": []
    },
    {
      "cell_type": "markdown",
      "source": [
        "Define two sets, set1 and set2, containing some common elements. Remove the duplicate elements from set1 that are also present in set2."
      ],
      "metadata": {
        "id": "E1B78qP8tupG"
      }
    },
    {
      "cell_type": "code",
      "source": [
        "#Your answer must go here\n",
        "# Define two sets - set1 and set2 with common elements\n",
        "set1 = {\"apple\", \"banana\", \"orange\", \"mango\", \"grapes\"}\n",
        "set2 = {\"banana\", \"apple\", \"kiwi\", \"watermelon\"}\n",
        "\n",
        "# Find the intersection between set1 and set2 to determine common elements\n",
        "common_elements = set1.intersection(set2)\n",
        "print(\"Common Elements are:\", common_elements)\n",
        "\n",
        "# Remove duplicate elements from set1 that also present in set2\n",
        "unique_elements_in_set1 = set1 - common_elements\n",
        "print(\"Unique Elements in Set 1 without duplicates:\", unique_elements_in_set1)"
      ],
      "metadata": {
        "id": "yyD4jH4AChIl"
      },
      "execution_count": null,
      "outputs": []
    },
    {
      "cell_type": "markdown",
      "source": [
        "Create a dictionary word_count to count the occurrences of each word in a given sentence. Print the top 3 most common words along with their counts."
      ],
      "metadata": {
        "id": "2qhPexHqt0fv"
      }
    },
    {
      "cell_type": "code",
      "source": [
        "#Your answer must go here\n",
        "sentence = \"This is a sample sentence containing repeated words.\"\n",
        "word_list = sentence.lower().split()\n",
        "# Convert to lowercase and split by whitespace\n",
        "word_count = {}\n",
        "for word in word_list:\n",
        "    if word not in word_count:\n",
        "        word_count[word] = 1\n",
        "    else:\n",
        "        word_count[word] += 1\n",
        "\n",
        "sorted_items = sorted(word_count.items(), key=lambda x: x[1], reverse=True)\n",
        "print(\"Top 3 most common words with counts:\\n\")\n",
        "for item in sorted_items[:3]:\n",
        "    print(f\"{item[0]} : {item[1]}\")"
      ],
      "metadata": {
        "id": "XmxnACB1CiUV"
      },
      "execution_count": null,
      "outputs": []
    }
  ]
}